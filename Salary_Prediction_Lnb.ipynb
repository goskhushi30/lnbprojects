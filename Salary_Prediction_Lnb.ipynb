{
 "cells": [
  {
   "cell_type": "code",
   "execution_count": 1,
   "id": "ee85662d-b8e6-477a-9e6c-a76d0cfd7d50",
   "metadata": {},
   "outputs": [
    {
     "name": "stderr",
     "output_type": "stream",
     "text": [
      "C:\\Users\\khushi\\AppData\\Local\\Temp\\ipykernel_4080\\1662815981.py:2: DeprecationWarning: \n",
      "Pyarrow will become a required dependency of pandas in the next major release of pandas (pandas 3.0),\n",
      "(to allow more performant data types, such as the Arrow string type, and better interoperability with other libraries)\n",
      "but was not found to be installed on your system.\n",
      "If this would cause problems for you,\n",
      "please provide us feedback at https://github.com/pandas-dev/pandas/issues/54466\n",
      "        \n",
      "  import pandas as pd\n"
     ]
    }
   ],
   "source": [
    "import numpy as np\n",
    "import pandas as pd"
   ]
  },
  {
   "cell_type": "code",
   "execution_count": 2,
   "id": "c2ad762e-8755-490d-bf7f-8a1d4725f7a4",
   "metadata": {},
   "outputs": [],
   "source": [
    "df=pd.read_csv(\"C:/Users/khushi/Downloads/salary_predict_dataset.csv\")"
   ]
  },
  {
   "cell_type": "code",
   "execution_count": 3,
   "id": "c8867d74-f6ea-46ae-b9af-501d9f3a3bdf",
   "metadata": {},
   "outputs": [
    {
     "data": {
      "text/html": [
       "<div>\n",
       "<style scoped>\n",
       "    .dataframe tbody tr th:only-of-type {\n",
       "        vertical-align: middle;\n",
       "    }\n",
       "\n",
       "    .dataframe tbody tr th {\n",
       "        vertical-align: top;\n",
       "    }\n",
       "\n",
       "    .dataframe thead th {\n",
       "        text-align: right;\n",
       "    }\n",
       "</style>\n",
       "<table border=\"1\" class=\"dataframe\">\n",
       "  <thead>\n",
       "    <tr style=\"text-align: right;\">\n",
       "      <th></th>\n",
       "      <th>experience</th>\n",
       "      <th>cgpa</th>\n",
       "      <th>Age</th>\n",
       "      <th>Interview_score</th>\n",
       "      <th>Salary</th>\n",
       "    </tr>\n",
       "  </thead>\n",
       "  <tbody>\n",
       "    <tr>\n",
       "      <th>0</th>\n",
       "      <td>1.1</td>\n",
       "      <td>8</td>\n",
       "      <td>22</td>\n",
       "      <td>75</td>\n",
       "      <td>39343</td>\n",
       "    </tr>\n",
       "    <tr>\n",
       "      <th>1</th>\n",
       "      <td>1.3</td>\n",
       "      <td>7</td>\n",
       "      <td>23</td>\n",
       "      <td>74</td>\n",
       "      <td>46205</td>\n",
       "    </tr>\n",
       "    <tr>\n",
       "      <th>2</th>\n",
       "      <td>1.5</td>\n",
       "      <td>6</td>\n",
       "      <td>22</td>\n",
       "      <td>76</td>\n",
       "      <td>37731</td>\n",
       "    </tr>\n",
       "    <tr>\n",
       "      <th>3</th>\n",
       "      <td>2.0</td>\n",
       "      <td>8</td>\n",
       "      <td>24</td>\n",
       "      <td>78</td>\n",
       "      <td>43525</td>\n",
       "    </tr>\n",
       "    <tr>\n",
       "      <th>4</th>\n",
       "      <td>2.2</td>\n",
       "      <td>6</td>\n",
       "      <td>28</td>\n",
       "      <td>84</td>\n",
       "      <td>39881</td>\n",
       "    </tr>\n",
       "  </tbody>\n",
       "</table>\n",
       "</div>"
      ],
      "text/plain": [
       "   experience  cgpa  Age  Interview_score  Salary\n",
       "0         1.1     8   22               75   39343\n",
       "1         1.3     7   23               74   46205\n",
       "2         1.5     6   22               76   37731\n",
       "3         2.0     8   24               78   43525\n",
       "4         2.2     6   28               84   39881"
      ]
     },
     "execution_count": 3,
     "metadata": {},
     "output_type": "execute_result"
    }
   ],
   "source": [
    "df.head()"
   ]
  },
  {
   "cell_type": "code",
   "execution_count": 4,
   "id": "c9826b93-6f00-472a-aebf-2056e7946779",
   "metadata": {},
   "outputs": [
    {
     "data": {
      "text/html": [
       "<div>\n",
       "<style scoped>\n",
       "    .dataframe tbody tr th:only-of-type {\n",
       "        vertical-align: middle;\n",
       "    }\n",
       "\n",
       "    .dataframe tbody tr th {\n",
       "        vertical-align: top;\n",
       "    }\n",
       "\n",
       "    .dataframe thead th {\n",
       "        text-align: right;\n",
       "    }\n",
       "</style>\n",
       "<table border=\"1\" class=\"dataframe\">\n",
       "  <thead>\n",
       "    <tr style=\"text-align: right;\">\n",
       "      <th></th>\n",
       "      <th>experience</th>\n",
       "      <th>cgpa</th>\n",
       "      <th>Age</th>\n",
       "      <th>Interview_score</th>\n",
       "      <th>Salary</th>\n",
       "    </tr>\n",
       "  </thead>\n",
       "  <tbody>\n",
       "    <tr>\n",
       "      <th>24</th>\n",
       "      <td>9.0</td>\n",
       "      <td>7</td>\n",
       "      <td>36</td>\n",
       "      <td>86</td>\n",
       "      <td>109431</td>\n",
       "    </tr>\n",
       "    <tr>\n",
       "      <th>25</th>\n",
       "      <td>9.5</td>\n",
       "      <td>5</td>\n",
       "      <td>34</td>\n",
       "      <td>84</td>\n",
       "      <td>105582</td>\n",
       "    </tr>\n",
       "    <tr>\n",
       "      <th>26</th>\n",
       "      <td>9.6</td>\n",
       "      <td>4</td>\n",
       "      <td>38</td>\n",
       "      <td>79</td>\n",
       "      <td>116945</td>\n",
       "    </tr>\n",
       "    <tr>\n",
       "      <th>27</th>\n",
       "      <td>10.3</td>\n",
       "      <td>9</td>\n",
       "      <td>40</td>\n",
       "      <td>73</td>\n",
       "      <td>122391</td>\n",
       "    </tr>\n",
       "    <tr>\n",
       "      <th>28</th>\n",
       "      <td>10.5</td>\n",
       "      <td>4</td>\n",
       "      <td>39</td>\n",
       "      <td>75</td>\n",
       "      <td>121872</td>\n",
       "    </tr>\n",
       "  </tbody>\n",
       "</table>\n",
       "</div>"
      ],
      "text/plain": [
       "    experience  cgpa  Age  Interview_score  Salary\n",
       "24         9.0     7   36               86  109431\n",
       "25         9.5     5   34               84  105582\n",
       "26         9.6     4   38               79  116945\n",
       "27        10.3     9   40               73  122391\n",
       "28        10.5     4   39               75  121872"
      ]
     },
     "execution_count": 4,
     "metadata": {},
     "output_type": "execute_result"
    }
   ],
   "source": [
    "df.tail()"
   ]
  },
  {
   "cell_type": "code",
   "execution_count": 5,
   "id": "8b478156-6f2a-47b2-b49e-187702e8a381",
   "metadata": {},
   "outputs": [
    {
     "data": {
      "text/plain": [
       "experience         0\n",
       "cgpa               0\n",
       "Age                0\n",
       "Interview_score    0\n",
       "Salary             0\n",
       "dtype: int64"
      ]
     },
     "execution_count": 5,
     "metadata": {},
     "output_type": "execute_result"
    }
   ],
   "source": [
    "df.isnull().sum()"
   ]
  },
  {
   "cell_type": "code",
   "execution_count": 6,
   "id": "8922f845-cd45-4caa-8595-0a7b0b2259a4",
   "metadata": {},
   "outputs": [
    {
     "data": {
      "text/plain": [
       "(29, 5)"
      ]
     },
     "execution_count": 6,
     "metadata": {},
     "output_type": "execute_result"
    }
   ],
   "source": [
    "df.shape\n"
   ]
  },
  {
   "cell_type": "code",
   "execution_count": 7,
   "id": "bbe94d7a-7ab5-4eec-ac9d-7ba4e699df45",
   "metadata": {},
   "outputs": [
    {
     "name": "stdout",
     "output_type": "stream",
     "text": [
      "<class 'pandas.core.frame.DataFrame'>\n",
      "RangeIndex: 29 entries, 0 to 28\n",
      "Data columns (total 5 columns):\n",
      " #   Column           Non-Null Count  Dtype  \n",
      "---  ------           --------------  -----  \n",
      " 0   experience       29 non-null     float64\n",
      " 1   cgpa             29 non-null     int64  \n",
      " 2   Age              29 non-null     int64  \n",
      " 3   Interview_score  29 non-null     int64  \n",
      " 4   Salary           29 non-null     int64  \n",
      "dtypes: float64(1), int64(4)\n",
      "memory usage: 1.3 KB\n"
     ]
    }
   ],
   "source": [
    "df.info()"
   ]
  },
  {
   "cell_type": "code",
   "execution_count": 8,
   "id": "e7ca762f-85df-413c-b905-ee5d0ad01601",
   "metadata": {},
   "outputs": [
    {
     "data": {
      "text/html": [
       "<div>\n",
       "<style scoped>\n",
       "    .dataframe tbody tr th:only-of-type {\n",
       "        vertical-align: middle;\n",
       "    }\n",
       "\n",
       "    .dataframe tbody tr th {\n",
       "        vertical-align: top;\n",
       "    }\n",
       "\n",
       "    .dataframe thead th {\n",
       "        text-align: right;\n",
       "    }\n",
       "</style>\n",
       "<table border=\"1\" class=\"dataframe\">\n",
       "  <thead>\n",
       "    <tr style=\"text-align: right;\">\n",
       "      <th></th>\n",
       "      <th>experience</th>\n",
       "      <th>cgpa</th>\n",
       "      <th>Age</th>\n",
       "      <th>Interview_score</th>\n",
       "      <th>Salary</th>\n",
       "    </tr>\n",
       "  </thead>\n",
       "  <tbody>\n",
       "    <tr>\n",
       "      <th>count</th>\n",
       "      <td>29.000000</td>\n",
       "      <td>29.000000</td>\n",
       "      <td>29.000000</td>\n",
       "      <td>29.000000</td>\n",
       "      <td>29.000000</td>\n",
       "    </tr>\n",
       "    <tr>\n",
       "      <th>mean</th>\n",
       "      <td>5.393103</td>\n",
       "      <td>6.724138</td>\n",
       "      <td>27.655172</td>\n",
       "      <td>78.965517</td>\n",
       "      <td>74735.310345</td>\n",
       "    </tr>\n",
       "    <tr>\n",
       "      <th>std</th>\n",
       "      <td>2.853686</td>\n",
       "      <td>1.556015</td>\n",
       "      <td>5.259521</td>\n",
       "      <td>9.700820</td>\n",
       "      <td>26984.972751</td>\n",
       "    </tr>\n",
       "    <tr>\n",
       "      <th>min</th>\n",
       "      <td>1.100000</td>\n",
       "      <td>3.000000</td>\n",
       "      <td>21.000000</td>\n",
       "      <td>46.000000</td>\n",
       "      <td>37731.000000</td>\n",
       "    </tr>\n",
       "    <tr>\n",
       "      <th>25%</th>\n",
       "      <td>3.200000</td>\n",
       "      <td>6.000000</td>\n",
       "      <td>24.000000</td>\n",
       "      <td>75.000000</td>\n",
       "      <td>56642.000000</td>\n",
       "    </tr>\n",
       "    <tr>\n",
       "      <th>50%</th>\n",
       "      <td>4.900000</td>\n",
       "      <td>7.000000</td>\n",
       "      <td>27.000000</td>\n",
       "      <td>79.000000</td>\n",
       "      <td>64445.000000</td>\n",
       "    </tr>\n",
       "    <tr>\n",
       "      <th>75%</th>\n",
       "      <td>7.900000</td>\n",
       "      <td>8.000000</td>\n",
       "      <td>29.000000</td>\n",
       "      <td>85.000000</td>\n",
       "      <td>98724.000000</td>\n",
       "    </tr>\n",
       "    <tr>\n",
       "      <th>max</th>\n",
       "      <td>10.500000</td>\n",
       "      <td>9.000000</td>\n",
       "      <td>40.000000</td>\n",
       "      <td>99.000000</td>\n",
       "      <td>122391.000000</td>\n",
       "    </tr>\n",
       "  </tbody>\n",
       "</table>\n",
       "</div>"
      ],
      "text/plain": [
       "       experience       cgpa        Age  Interview_score         Salary\n",
       "count   29.000000  29.000000  29.000000        29.000000      29.000000\n",
       "mean     5.393103   6.724138  27.655172        78.965517   74735.310345\n",
       "std      2.853686   1.556015   5.259521         9.700820   26984.972751\n",
       "min      1.100000   3.000000  21.000000        46.000000   37731.000000\n",
       "25%      3.200000   6.000000  24.000000        75.000000   56642.000000\n",
       "50%      4.900000   7.000000  27.000000        79.000000   64445.000000\n",
       "75%      7.900000   8.000000  29.000000        85.000000   98724.000000\n",
       "max     10.500000   9.000000  40.000000        99.000000  122391.000000"
      ]
     },
     "execution_count": 8,
     "metadata": {},
     "output_type": "execute_result"
    }
   ],
   "source": [
    "df.describe()"
   ]
  },
  {
   "cell_type": "code",
   "execution_count": 9,
   "id": "dcf3eb6b-f6bc-49ed-a438-437e799bf5af",
   "metadata": {},
   "outputs": [
    {
     "data": {
      "text/plain": [
       "0"
      ]
     },
     "execution_count": 9,
     "metadata": {},
     "output_type": "execute_result"
    }
   ],
   "source": [
    "df.duplicated().sum()"
   ]
  },
  {
   "cell_type": "code",
   "execution_count": 10,
   "id": "d0f9afb1-dc8f-4bc1-9ee2-edb9e3323cbe",
   "metadata": {},
   "outputs": [],
   "source": [
    "x=df.iloc[:,:4]\n",
    "y=df.iloc[:,4:]\n"
   ]
  },
  {
   "cell_type": "code",
   "execution_count": 11,
   "id": "81913ed1-21d2-4b84-b56f-3ea798a1f248",
   "metadata": {},
   "outputs": [],
   "source": [
    "from sklearn.model_selection import train_test_split\n",
    "x_train,x_test,y_train,y_test=train_test_split(x,y,test_size=0.2,random_state=0)"
   ]
  },
  {
   "cell_type": "code",
   "execution_count": 12,
   "id": "3b3c3bef-9c75-4833-8281-ce63b44d9eef",
   "metadata": {},
   "outputs": [
    {
     "name": "stdout",
     "output_type": "stream",
     "text": [
      "Linear Regression [[ 37545.69451861]\n",
      " [ 88291.38930287]\n",
      " [100615.83524016]\n",
      " [ 66274.41630333]\n",
      " [ 59397.75452853]\n",
      " [111270.63215741]]\n",
      "Decision Tree [ 39343.  81363. 101302.  57189.  57189. 109431.]\n",
      "Random Forest [ 41806.94  88359.24  99866.49  58858.79  58946.6  110938.32]\n"
     ]
    },
    {
     "name": "stderr",
     "output_type": "stream",
     "text": [
      "C:\\Users\\khushi\\AppData\\Local\\Programs\\Python\\Python312\\Lib\\site-packages\\sklearn\\base.py:1474: DataConversionWarning: A column-vector y was passed when a 1d array was expected. Please change the shape of y to (n_samples,), for example using ravel().\n",
      "  return fit_method(estimator, *args, **kwargs)\n"
     ]
    }
   ],
   "source": [
    "from sklearn.linear_model import LinearRegression\n",
    "from sklearn.tree import DecisionTreeRegressor\n",
    "from sklearn.ensemble import RandomForestRegressor\n",
    "\n",
    "rf=RandomForestRegressor()\n",
    "dt=DecisionTreeRegressor()\n",
    "lr=LinearRegression()\n",
    "dt.fit(x_train,y_train)\n",
    "lr.fit(x_train,y_train)\n",
    "rf.fit(x_train,y_train)\n",
    "y_pred=lr.predict(x_test)\n",
    "y1_pred=dt.predict(x_test)\n",
    "y2_pred=rf.predict(x_test)\n",
    "print(\"Linear Regression\",y_pred)\n",
    "print(\"Decision Tree\",y1_pred)\n",
    "print(\"Random Forest\",y2_pred)"
   ]
  },
  {
   "cell_type": "code",
   "execution_count": 13,
   "id": "f7638289-d799-4a2b-b53b-92d46be9972c",
   "metadata": {},
   "outputs": [
    {
     "data": {
      "text/plain": [
       "122391"
      ]
     },
     "execution_count": 13,
     "metadata": {},
     "output_type": "execute_result"
    }
   ],
   "source": [
    "s=df['Salary'].max()\n",
    "s"
   ]
  },
  {
   "cell_type": "code",
   "execution_count": 16,
   "id": "41463ab6-9471-4804-944e-5123f725f050",
   "metadata": {},
   "outputs": [
    {
     "name": "stdout",
     "output_type": "stream",
     "text": [
      "L1 Score for LR:5807.4806546046675\n",
      "L2 Score for LR:50611581.33190599\n",
      "R2 Score for LR:0.9359782735746942\n",
      "L1 Score for DT:4896.666666666667\n",
      "L2 Score for DT:45315155.0\n",
      "R2 Score for DT:0.9426780515450638\n",
      "L1 Score for RF:5202.986666666667\n",
      "L2 Score for RF:41888671.114633314\n",
      "R2 Score for RF:0.9470124234049561\n"
     ]
    }
   ],
   "source": [
    "from sklearn.metrics import accuracy_score,mean_absolute_error,mean_squared_error,r2_score\n",
    "\n",
    "l1=mean_absolute_error(y_test,y_pred)\n",
    "l2=mean_squared_error(y_test,y_pred)\n",
    "r2=r2_score(y_test,y_pred)\n",
    "print(f\"L1 Score for LR:{l1}\")\n",
    "print(f\"L2 Score for LR:{l2}\")\n",
    "print(f\"R2 Score for LR:{r2}\")\n",
    "\n",
    "l1=mean_absolute_error(y_test,y1_pred)\n",
    "l2=mean_squared_error(y_test,y1_pred)\n",
    "r2=r2_score(y_test,y1_pred)\n",
    "print(f\"L1 Score for DT:{l1}\")\n",
    "print(f\"L2 Score for DT:{l2}\")\n",
    "print(f\"R2 Score for DT:{r2}\")\n",
    "\n",
    "l1=mean_absolute_error(y_test,y2_pred)\n",
    "l2=mean_squared_error(y_test,y2_pred)\n",
    "r2=r2_score(y_test,y2_pred)\n",
    "print(f\"L1 Score for RF:{l1}\")\n",
    "print(f\"L2 Score for RF:{l2}\")\n",
    "print(f\"R2 Score for RF:{r2}\")\n",
    "\n",
    "\n",
    "\n"
   ]
  },
  {
   "cell_type": "code",
   "execution_count": null,
   "id": "8e2682f8-c46b-4323-9143-1b1767732aa9",
   "metadata": {},
   "outputs": [],
   "source": []
  }
 ],
 "metadata": {
  "kernelspec": {
   "display_name": "Python 3 (ipykernel)",
   "language": "python",
   "name": "python3"
  },
  "language_info": {
   "codemirror_mode": {
    "name": "ipython",
    "version": 3
   },
   "file_extension": ".py",
   "mimetype": "text/x-python",
   "name": "python",
   "nbconvert_exporter": "python",
   "pygments_lexer": "ipython3",
   "version": "3.12.1"
  }
 },
 "nbformat": 4,
 "nbformat_minor": 5
}
