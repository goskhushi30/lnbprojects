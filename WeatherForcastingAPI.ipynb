{
 "cells": [
  {
   "cell_type": "code",
   "execution_count": null,
   "id": "3eb1f5b3-9f20-44f8-a0f4-71eab0d009ac",
   "metadata": {},
   "outputs": [],
   "source": []
  },
  {
   "cell_type": "code",
   "execution_count": 4,
   "id": "9160a318-a357-4e6a-b35e-1c09c0777c51",
   "metadata": {},
   "outputs": [
    {
     "name": "stdin",
     "output_type": "stream",
     "text": [
      "Enter city name: jaipur\n"
     ]
    },
    {
     "name": "stdout",
     "output_type": "stream",
     "text": [
      "Haze\n",
      "296.77\n",
      "27\n"
     ]
    }
   ],
   "source": [
    "import requests\n",
    "API_key='4c61b71bf3f4c74cda059b4dc8f0eb87'\n",
    "city_name=input(\"Enter city name:\")\n",
    "weather_data=requests.get(f\"https://api.openweathermap.org/data/2.5/weather?q={city_name}&appid={API_key}\")\n",
    "if weather_data.json()['cod']=='404':\n",
    "    print(\"Enter the correct city\")\n",
    "else:\n",
    "    weather=weather_data.json()['weather'][0]['main']\n",
    "    print(weather)\n",
    "    temp=weather_data.json()['main']['temp']\n",
    "    print(temp)\n",
    "    humidity=weather_data.json()['main']['humidity']\n",
    "    print(humidity)\n"
   ]
  },
  {
   "cell_type": "code",
   "execution_count": null,
   "id": "a16d3a83-f7a4-4b29-bad6-5db7a77eca7c",
   "metadata": {},
   "outputs": [],
   "source": []
  },
  {
   "cell_type": "code",
   "execution_count": null,
   "id": "b09672d7-ef91-4eb1-b072-f950b8794fbb",
   "metadata": {},
   "outputs": [],
   "source": []
  }
 ],
 "metadata": {
  "kernelspec": {
   "display_name": "Python 3 (ipykernel)",
   "language": "python",
   "name": "python3"
  },
  "language_info": {
   "codemirror_mode": {
    "name": "ipython",
    "version": 3
   },
   "file_extension": ".py",
   "mimetype": "text/x-python",
   "name": "python",
   "nbconvert_exporter": "python",
   "pygments_lexer": "ipython3",
   "version": "3.12.1"
  }
 },
 "nbformat": 4,
 "nbformat_minor": 5
}
